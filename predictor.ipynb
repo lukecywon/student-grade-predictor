{
 "cells": [
  {
   "cell_type": "markdown",
   "id": "60444742-95d6-420d-be98-cb5ee21dffff",
   "metadata": {},
   "source": "# <ins>**Student Grade Predictor**</ins>"
  },
  {
   "cell_type": "markdown",
   "id": "04b14305-03f6-4b53-9aec-96c9d93fdf92",
   "metadata": {},
   "source": [
    "## <ins>**Initialization**</ins>"
   ]
  },
  {
   "metadata": {
    "ExecuteTime": {
     "end_time": "2025-08-05T14:34:16.639472Z",
     "start_time": "2025-08-05T14:34:16.612247Z"
    }
   },
   "cell_type": "code",
   "source": [
    "import pandas as pd\n",
    "import numpy as np\n",
    "from sklearn.model_selection import train_test_split\n",
    "from sklearn.preprocessing import StandardScaler\n",
    "from sklearn.model_selection import GridSearchCV\n",
    "from sklearn.ensemble import RandomForestClassifier\n",
    "from sklearn.metrics import confusion_matrix, ConfusionMatrixDisplay\n",
    "from sklearn.cluster import KMeans\n",
    "import matplotlib.pyplot as plt\n",
    "from sklearn import svm\n",
    "from sklearn.metrics import accuracy_score\n",
    "%matplotlib inline\n",
    "sc = StandardScaler()\n",
    "students = pd.read_csv('student_list.csv')\n",
    "students.head()"
   ],
   "id": "ad65ac33-ecc1-41dc-9dde-1245d79f362e",
   "outputs": [
    {
     "data": {
      "text/plain": [
       "   StudentID  Age  StudyTimeWeekly  Absences  ParentalSupport       GPA  \\\n",
       "0       1002   18        15.408756         0                1  3.042915   \n",
       "1       1003   15         4.210570        26                2  0.112602   \n",
       "2       1004   17        10.028829        14                3  2.054218   \n",
       "3       1005   17         4.672495        17                3  1.288061   \n",
       "4       1006   18         8.191219         0                1  3.084184   \n",
       "\n",
       "   GradeClass  \n",
       "0           1  \n",
       "1           4  \n",
       "2           3  \n",
       "3           4  \n",
       "4           1  "
      ],
      "text/html": [
       "<div>\n",
       "<style scoped>\n",
       "    .dataframe tbody tr th:only-of-type {\n",
       "        vertical-align: middle;\n",
       "    }\n",
       "\n",
       "    .dataframe tbody tr th {\n",
       "        vertical-align: top;\n",
       "    }\n",
       "\n",
       "    .dataframe thead th {\n",
       "        text-align: right;\n",
       "    }\n",
       "</style>\n",
       "<table border=\"1\" class=\"dataframe\">\n",
       "  <thead>\n",
       "    <tr style=\"text-align: right;\">\n",
       "      <th></th>\n",
       "      <th>StudentID</th>\n",
       "      <th>Age</th>\n",
       "      <th>StudyTimeWeekly</th>\n",
       "      <th>Absences</th>\n",
       "      <th>ParentalSupport</th>\n",
       "      <th>GPA</th>\n",
       "      <th>GradeClass</th>\n",
       "    </tr>\n",
       "  </thead>\n",
       "  <tbody>\n",
       "    <tr>\n",
       "      <th>0</th>\n",
       "      <td>1002</td>\n",
       "      <td>18</td>\n",
       "      <td>15.408756</td>\n",
       "      <td>0</td>\n",
       "      <td>1</td>\n",
       "      <td>3.042915</td>\n",
       "      <td>1</td>\n",
       "    </tr>\n",
       "    <tr>\n",
       "      <th>1</th>\n",
       "      <td>1003</td>\n",
       "      <td>15</td>\n",
       "      <td>4.210570</td>\n",
       "      <td>26</td>\n",
       "      <td>2</td>\n",
       "      <td>0.112602</td>\n",
       "      <td>4</td>\n",
       "    </tr>\n",
       "    <tr>\n",
       "      <th>2</th>\n",
       "      <td>1004</td>\n",
       "      <td>17</td>\n",
       "      <td>10.028829</td>\n",
       "      <td>14</td>\n",
       "      <td>3</td>\n",
       "      <td>2.054218</td>\n",
       "      <td>3</td>\n",
       "    </tr>\n",
       "    <tr>\n",
       "      <th>3</th>\n",
       "      <td>1005</td>\n",
       "      <td>17</td>\n",
       "      <td>4.672495</td>\n",
       "      <td>17</td>\n",
       "      <td>3</td>\n",
       "      <td>1.288061</td>\n",
       "      <td>4</td>\n",
       "    </tr>\n",
       "    <tr>\n",
       "      <th>4</th>\n",
       "      <td>1006</td>\n",
       "      <td>18</td>\n",
       "      <td>8.191219</td>\n",
       "      <td>0</td>\n",
       "      <td>1</td>\n",
       "      <td>3.084184</td>\n",
       "      <td>1</td>\n",
       "    </tr>\n",
       "  </tbody>\n",
       "</table>\n",
       "</div>"
      ]
     },
     "execution_count": 85,
     "metadata": {},
     "output_type": "execute_result"
    }
   ],
   "execution_count": 85
  },
  {
   "metadata": {},
   "cell_type": "markdown",
   "source": "## <ins>**Data Wrangling**</ins>",
   "id": "6041a6a6-5b6c-420f-9ac1-ac49aaf196fe"
  },
  {
   "metadata": {},
   "cell_type": "markdown",
   "source": "### Replacing number with letters",
   "id": "64110a11702898e2"
  },
  {
   "metadata": {
    "ExecuteTime": {
     "end_time": "2025-08-05T14:34:16.837344Z",
     "start_time": "2025-08-05T14:34:16.742828Z"
    }
   },
   "cell_type": "code",
   "source": [
    "# List of grades\n",
    "grades = ['A', 'B', 'C', 'D', 'F']\n",
    "\n",
    "# Replace numerical representation of grades to letter representation\n",
    "students['GradeClass'] = students['GradeClass'].replace({\n",
    "    0: 'A',\n",
    "    1: 'B',\n",
    "    2: 'C',\n",
    "    3: 'D',\n",
    "    4: 'F'\n",
    "})\n",
    "\n",
    "students"
   ],
   "id": "7bf0fa1e-839f-4bca-989b-9d7290823520",
   "outputs": [
    {
     "data": {
      "text/plain": [
       "      StudentID  Age  StudyTimeWeekly  Absences  ParentalSupport       GPA  \\\n",
       "0          1002   18        15.408756         0                1  3.042915   \n",
       "1          1003   15         4.210570        26                2  0.112602   \n",
       "2          1004   17        10.028829        14                3  2.054218   \n",
       "3          1005   17         4.672495        17                3  1.288061   \n",
       "4          1006   18         8.191219         0                1  3.084184   \n",
       "...         ...  ...              ...       ...              ...       ...   \n",
       "2095       3386   16         1.445434        20                3  1.395631   \n",
       "2096       3388   18        10.680555         2                4  3.455509   \n",
       "2097       3390   16         6.805500        20                2  1.142333   \n",
       "2098       3391   16        12.416653        17                2  1.803297   \n",
       "2099       3392   16        17.819907        13                2  2.140014   \n",
       "\n",
       "     GradeClass  \n",
       "0             B  \n",
       "1             F  \n",
       "2             D  \n",
       "3             F  \n",
       "4             B  \n",
       "...         ...  \n",
       "2095          B  \n",
       "2096          A  \n",
       "2097          C  \n",
       "2098          B  \n",
       "2099          B  \n",
       "\n",
       "[2100 rows x 7 columns]"
      ],
      "text/html": [
       "<div>\n",
       "<style scoped>\n",
       "    .dataframe tbody tr th:only-of-type {\n",
       "        vertical-align: middle;\n",
       "    }\n",
       "\n",
       "    .dataframe tbody tr th {\n",
       "        vertical-align: top;\n",
       "    }\n",
       "\n",
       "    .dataframe thead th {\n",
       "        text-align: right;\n",
       "    }\n",
       "</style>\n",
       "<table border=\"1\" class=\"dataframe\">\n",
       "  <thead>\n",
       "    <tr style=\"text-align: right;\">\n",
       "      <th></th>\n",
       "      <th>StudentID</th>\n",
       "      <th>Age</th>\n",
       "      <th>StudyTimeWeekly</th>\n",
       "      <th>Absences</th>\n",
       "      <th>ParentalSupport</th>\n",
       "      <th>GPA</th>\n",
       "      <th>GradeClass</th>\n",
       "    </tr>\n",
       "  </thead>\n",
       "  <tbody>\n",
       "    <tr>\n",
       "      <th>0</th>\n",
       "      <td>1002</td>\n",
       "      <td>18</td>\n",
       "      <td>15.408756</td>\n",
       "      <td>0</td>\n",
       "      <td>1</td>\n",
       "      <td>3.042915</td>\n",
       "      <td>B</td>\n",
       "    </tr>\n",
       "    <tr>\n",
       "      <th>1</th>\n",
       "      <td>1003</td>\n",
       "      <td>15</td>\n",
       "      <td>4.210570</td>\n",
       "      <td>26</td>\n",
       "      <td>2</td>\n",
       "      <td>0.112602</td>\n",
       "      <td>F</td>\n",
       "    </tr>\n",
       "    <tr>\n",
       "      <th>2</th>\n",
       "      <td>1004</td>\n",
       "      <td>17</td>\n",
       "      <td>10.028829</td>\n",
       "      <td>14</td>\n",
       "      <td>3</td>\n",
       "      <td>2.054218</td>\n",
       "      <td>D</td>\n",
       "    </tr>\n",
       "    <tr>\n",
       "      <th>3</th>\n",
       "      <td>1005</td>\n",
       "      <td>17</td>\n",
       "      <td>4.672495</td>\n",
       "      <td>17</td>\n",
       "      <td>3</td>\n",
       "      <td>1.288061</td>\n",
       "      <td>F</td>\n",
       "    </tr>\n",
       "    <tr>\n",
       "      <th>4</th>\n",
       "      <td>1006</td>\n",
       "      <td>18</td>\n",
       "      <td>8.191219</td>\n",
       "      <td>0</td>\n",
       "      <td>1</td>\n",
       "      <td>3.084184</td>\n",
       "      <td>B</td>\n",
       "    </tr>\n",
       "    <tr>\n",
       "      <th>...</th>\n",
       "      <td>...</td>\n",
       "      <td>...</td>\n",
       "      <td>...</td>\n",
       "      <td>...</td>\n",
       "      <td>...</td>\n",
       "      <td>...</td>\n",
       "      <td>...</td>\n",
       "    </tr>\n",
       "    <tr>\n",
       "      <th>2095</th>\n",
       "      <td>3386</td>\n",
       "      <td>16</td>\n",
       "      <td>1.445434</td>\n",
       "      <td>20</td>\n",
       "      <td>3</td>\n",
       "      <td>1.395631</td>\n",
       "      <td>B</td>\n",
       "    </tr>\n",
       "    <tr>\n",
       "      <th>2096</th>\n",
       "      <td>3388</td>\n",
       "      <td>18</td>\n",
       "      <td>10.680555</td>\n",
       "      <td>2</td>\n",
       "      <td>4</td>\n",
       "      <td>3.455509</td>\n",
       "      <td>A</td>\n",
       "    </tr>\n",
       "    <tr>\n",
       "      <th>2097</th>\n",
       "      <td>3390</td>\n",
       "      <td>16</td>\n",
       "      <td>6.805500</td>\n",
       "      <td>20</td>\n",
       "      <td>2</td>\n",
       "      <td>1.142333</td>\n",
       "      <td>C</td>\n",
       "    </tr>\n",
       "    <tr>\n",
       "      <th>2098</th>\n",
       "      <td>3391</td>\n",
       "      <td>16</td>\n",
       "      <td>12.416653</td>\n",
       "      <td>17</td>\n",
       "      <td>2</td>\n",
       "      <td>1.803297</td>\n",
       "      <td>B</td>\n",
       "    </tr>\n",
       "    <tr>\n",
       "      <th>2099</th>\n",
       "      <td>3392</td>\n",
       "      <td>16</td>\n",
       "      <td>17.819907</td>\n",
       "      <td>13</td>\n",
       "      <td>2</td>\n",
       "      <td>2.140014</td>\n",
       "      <td>B</td>\n",
       "    </tr>\n",
       "  </tbody>\n",
       "</table>\n",
       "<p>2100 rows × 7 columns</p>\n",
       "</div>"
      ]
     },
     "execution_count": 86,
     "metadata": {},
     "output_type": "execute_result"
    }
   ],
   "execution_count": 86
  },
  {
   "metadata": {},
   "cell_type": "markdown",
   "source": "#### Handling NaN values",
   "id": "f28242aa-6970-4dd5-ab46-75ae059506f9"
  },
  {
   "metadata": {
    "ExecuteTime": {
     "end_time": "2025-08-05T14:34:17.155969Z",
     "start_time": "2025-08-05T14:34:17.062946Z"
    }
   },
   "cell_type": "code",
   "source": [
    "# Creating bool series True for NaN values\n",
    "no_study_time = pd.isnull(students['StudyTimeWeekly'])\n",
    "\n",
    "# Displaying data only with StudyTimeWeekly = NaN (debugging purposes)\n",
    "# students[no_study_time]\n",
    "\n",
    "# Set all StudyTimeWeekly = NaN to the median of StudyTimeWeekly\n",
    "students['StudyTimeWeekly'] = students['StudyTimeWeekly'].fillna(students['StudyTimeWeekly'].median())\n",
    "\n",
    "# Display table\n",
    "students"
   ],
   "id": "e8adc3ef-5fc6-4a0f-884f-26b9bf961a57",
   "outputs": [
    {
     "data": {
      "text/plain": [
       "      StudentID  Age  StudyTimeWeekly  Absences  ParentalSupport       GPA  \\\n",
       "0          1002   18        15.408756         0                1  3.042915   \n",
       "1          1003   15         4.210570        26                2  0.112602   \n",
       "2          1004   17        10.028829        14                3  2.054218   \n",
       "3          1005   17         4.672495        17                3  1.288061   \n",
       "4          1006   18         8.191219         0                1  3.084184   \n",
       "...         ...  ...              ...       ...              ...       ...   \n",
       "2095       3386   16         1.445434        20                3  1.395631   \n",
       "2096       3388   18        10.680555         2                4  3.455509   \n",
       "2097       3390   16         6.805500        20                2  1.142333   \n",
       "2098       3391   16        12.416653        17                2  1.803297   \n",
       "2099       3392   16        17.819907        13                2  2.140014   \n",
       "\n",
       "     GradeClass  \n",
       "0             B  \n",
       "1             F  \n",
       "2             D  \n",
       "3             F  \n",
       "4             B  \n",
       "...         ...  \n",
       "2095          B  \n",
       "2096          A  \n",
       "2097          C  \n",
       "2098          B  \n",
       "2099          B  \n",
       "\n",
       "[2100 rows x 7 columns]"
      ],
      "text/html": [
       "<div>\n",
       "<style scoped>\n",
       "    .dataframe tbody tr th:only-of-type {\n",
       "        vertical-align: middle;\n",
       "    }\n",
       "\n",
       "    .dataframe tbody tr th {\n",
       "        vertical-align: top;\n",
       "    }\n",
       "\n",
       "    .dataframe thead th {\n",
       "        text-align: right;\n",
       "    }\n",
       "</style>\n",
       "<table border=\"1\" class=\"dataframe\">\n",
       "  <thead>\n",
       "    <tr style=\"text-align: right;\">\n",
       "      <th></th>\n",
       "      <th>StudentID</th>\n",
       "      <th>Age</th>\n",
       "      <th>StudyTimeWeekly</th>\n",
       "      <th>Absences</th>\n",
       "      <th>ParentalSupport</th>\n",
       "      <th>GPA</th>\n",
       "      <th>GradeClass</th>\n",
       "    </tr>\n",
       "  </thead>\n",
       "  <tbody>\n",
       "    <tr>\n",
       "      <th>0</th>\n",
       "      <td>1002</td>\n",
       "      <td>18</td>\n",
       "      <td>15.408756</td>\n",
       "      <td>0</td>\n",
       "      <td>1</td>\n",
       "      <td>3.042915</td>\n",
       "      <td>B</td>\n",
       "    </tr>\n",
       "    <tr>\n",
       "      <th>1</th>\n",
       "      <td>1003</td>\n",
       "      <td>15</td>\n",
       "      <td>4.210570</td>\n",
       "      <td>26</td>\n",
       "      <td>2</td>\n",
       "      <td>0.112602</td>\n",
       "      <td>F</td>\n",
       "    </tr>\n",
       "    <tr>\n",
       "      <th>2</th>\n",
       "      <td>1004</td>\n",
       "      <td>17</td>\n",
       "      <td>10.028829</td>\n",
       "      <td>14</td>\n",
       "      <td>3</td>\n",
       "      <td>2.054218</td>\n",
       "      <td>D</td>\n",
       "    </tr>\n",
       "    <tr>\n",
       "      <th>3</th>\n",
       "      <td>1005</td>\n",
       "      <td>17</td>\n",
       "      <td>4.672495</td>\n",
       "      <td>17</td>\n",
       "      <td>3</td>\n",
       "      <td>1.288061</td>\n",
       "      <td>F</td>\n",
       "    </tr>\n",
       "    <tr>\n",
       "      <th>4</th>\n",
       "      <td>1006</td>\n",
       "      <td>18</td>\n",
       "      <td>8.191219</td>\n",
       "      <td>0</td>\n",
       "      <td>1</td>\n",
       "      <td>3.084184</td>\n",
       "      <td>B</td>\n",
       "    </tr>\n",
       "    <tr>\n",
       "      <th>...</th>\n",
       "      <td>...</td>\n",
       "      <td>...</td>\n",
       "      <td>...</td>\n",
       "      <td>...</td>\n",
       "      <td>...</td>\n",
       "      <td>...</td>\n",
       "      <td>...</td>\n",
       "    </tr>\n",
       "    <tr>\n",
       "      <th>2095</th>\n",
       "      <td>3386</td>\n",
       "      <td>16</td>\n",
       "      <td>1.445434</td>\n",
       "      <td>20</td>\n",
       "      <td>3</td>\n",
       "      <td>1.395631</td>\n",
       "      <td>B</td>\n",
       "    </tr>\n",
       "    <tr>\n",
       "      <th>2096</th>\n",
       "      <td>3388</td>\n",
       "      <td>18</td>\n",
       "      <td>10.680555</td>\n",
       "      <td>2</td>\n",
       "      <td>4</td>\n",
       "      <td>3.455509</td>\n",
       "      <td>A</td>\n",
       "    </tr>\n",
       "    <tr>\n",
       "      <th>2097</th>\n",
       "      <td>3390</td>\n",
       "      <td>16</td>\n",
       "      <td>6.805500</td>\n",
       "      <td>20</td>\n",
       "      <td>2</td>\n",
       "      <td>1.142333</td>\n",
       "      <td>C</td>\n",
       "    </tr>\n",
       "    <tr>\n",
       "      <th>2098</th>\n",
       "      <td>3391</td>\n",
       "      <td>16</td>\n",
       "      <td>12.416653</td>\n",
       "      <td>17</td>\n",
       "      <td>2</td>\n",
       "      <td>1.803297</td>\n",
       "      <td>B</td>\n",
       "    </tr>\n",
       "    <tr>\n",
       "      <th>2099</th>\n",
       "      <td>3392</td>\n",
       "      <td>16</td>\n",
       "      <td>17.819907</td>\n",
       "      <td>13</td>\n",
       "      <td>2</td>\n",
       "      <td>2.140014</td>\n",
       "      <td>B</td>\n",
       "    </tr>\n",
       "  </tbody>\n",
       "</table>\n",
       "<p>2100 rows × 7 columns</p>\n",
       "</div>"
      ]
     },
     "execution_count": 87,
     "metadata": {},
     "output_type": "execute_result"
    }
   ],
   "execution_count": 87
  },
  {
   "cell_type": "markdown",
   "id": "fecfc897-6e2d-4efc-824a-2ce655d3176f",
   "metadata": {},
   "source": "#### Identify and drop rows with data quality problems"
  },
  {
   "cell_type": "code",
   "id": "9e5e0088-ed1a-4305-a0ed-953acded13a4",
   "metadata": {
    "ExecuteTime": {
     "end_time": "2025-08-05T14:34:17.363897Z",
     "start_time": "2025-08-05T14:34:17.350739Z"
    }
   },
   "source": [
    "# Using describe to find data quality problems\n",
    "students[\"Absences\"].describe()"
   ],
   "outputs": [
    {
     "data": {
      "text/plain": [
       "count    2100.000000\n",
       "mean       14.709048\n",
       "std        11.153253\n",
       "min      -122.000000\n",
       "25%         7.000000\n",
       "50%        15.000000\n",
       "75%        22.000000\n",
       "max       320.000000\n",
       "Name: Absences, dtype: float64"
      ]
     },
     "execution_count": 88,
     "metadata": {},
     "output_type": "execute_result"
    }
   ],
   "execution_count": 88
  },
  {
   "cell_type": "markdown",
   "id": "9732ea6a-bacc-4549-85b5-a3788c7fb235",
   "metadata": {},
   "source": [
    "<ins>**Data quality problems identified:**</ins>\n",
    "- Outliers (320 absences)\n",
    "- Invalid value (-122 absences)"
   ]
  },
  {
   "cell_type": "code",
   "id": "107ffb3c-c6d2-407f-a82b-2ec107068d5d",
   "metadata": {
    "ExecuteTime": {
     "end_time": "2025-08-05T14:34:17.736085Z",
     "start_time": "2025-08-05T14:34:17.719919Z"
    }
   },
   "source": [
    "# Remove all students with less than 0 absences (negative number impossible)\n",
    "students.drop(students[students.Absences < 0].index, inplace=True)\n",
    "\n",
    "# Remove all students with above 300 absences (outlier data)\n",
    "students.drop(students[students.Absences > 100].index, inplace=True)\n",
    "\n",
    "# Check for outliers and invalids again\n",
    "students[\"Absences\"].describe()"
   ],
   "outputs": [
    {
     "data": {
      "text/plain": [
       "count    2098.000000\n",
       "mean       14.628694\n",
       "std         8.434995\n",
       "min         0.000000\n",
       "25%         7.000000\n",
       "50%        15.000000\n",
       "75%        22.000000\n",
       "max        29.000000\n",
       "Name: Absences, dtype: float64"
      ]
     },
     "execution_count": 89,
     "metadata": {},
     "output_type": "execute_result"
    }
   ],
   "execution_count": 89
  },
  {
   "cell_type": "markdown",
   "id": "f4eb8996-930e-4076-8b6b-30866761af11",
   "metadata": {},
   "source": [
    "The rows containing the data quality problems have been droped"
   ]
  },
  {
   "cell_type": "markdown",
   "id": "b1c07f2c-9e0d-41a5-af7d-ae4f832505e2",
   "metadata": {},
   "source": "### Check for integrity constraint violations"
  },
  {
   "cell_type": "code",
   "id": "85f52963-0e81-4d78-81af-56aab286c1bf",
   "metadata": {
    "ExecuteTime": {
     "end_time": "2025-08-05T14:34:17.911487Z",
     "start_time": "2025-08-05T14:34:17.896661Z"
    }
   },
   "source": [
    "# Compare GPA and GradeClass\n",
    "students[[\"GPA\", \"GradeClass\"]]"
   ],
   "outputs": [
    {
     "data": {
      "text/plain": [
       "           GPA GradeClass\n",
       "0     3.042915          B\n",
       "1     0.112602          F\n",
       "2     2.054218          D\n",
       "3     1.288061          F\n",
       "4     3.084184          B\n",
       "...        ...        ...\n",
       "2095  1.395631          B\n",
       "2096  3.455509          A\n",
       "2097  1.142333          C\n",
       "2098  1.803297          B\n",
       "2099  2.140014          B\n",
       "\n",
       "[2098 rows x 2 columns]"
      ],
      "text/html": [
       "<div>\n",
       "<style scoped>\n",
       "    .dataframe tbody tr th:only-of-type {\n",
       "        vertical-align: middle;\n",
       "    }\n",
       "\n",
       "    .dataframe tbody tr th {\n",
       "        vertical-align: top;\n",
       "    }\n",
       "\n",
       "    .dataframe thead th {\n",
       "        text-align: right;\n",
       "    }\n",
       "</style>\n",
       "<table border=\"1\" class=\"dataframe\">\n",
       "  <thead>\n",
       "    <tr style=\"text-align: right;\">\n",
       "      <th></th>\n",
       "      <th>GPA</th>\n",
       "      <th>GradeClass</th>\n",
       "    </tr>\n",
       "  </thead>\n",
       "  <tbody>\n",
       "    <tr>\n",
       "      <th>0</th>\n",
       "      <td>3.042915</td>\n",
       "      <td>B</td>\n",
       "    </tr>\n",
       "    <tr>\n",
       "      <th>1</th>\n",
       "      <td>0.112602</td>\n",
       "      <td>F</td>\n",
       "    </tr>\n",
       "    <tr>\n",
       "      <th>2</th>\n",
       "      <td>2.054218</td>\n",
       "      <td>D</td>\n",
       "    </tr>\n",
       "    <tr>\n",
       "      <th>3</th>\n",
       "      <td>1.288061</td>\n",
       "      <td>F</td>\n",
       "    </tr>\n",
       "    <tr>\n",
       "      <th>4</th>\n",
       "      <td>3.084184</td>\n",
       "      <td>B</td>\n",
       "    </tr>\n",
       "    <tr>\n",
       "      <th>...</th>\n",
       "      <td>...</td>\n",
       "      <td>...</td>\n",
       "    </tr>\n",
       "    <tr>\n",
       "      <th>2095</th>\n",
       "      <td>1.395631</td>\n",
       "      <td>B</td>\n",
       "    </tr>\n",
       "    <tr>\n",
       "      <th>2096</th>\n",
       "      <td>3.455509</td>\n",
       "      <td>A</td>\n",
       "    </tr>\n",
       "    <tr>\n",
       "      <th>2097</th>\n",
       "      <td>1.142333</td>\n",
       "      <td>C</td>\n",
       "    </tr>\n",
       "    <tr>\n",
       "      <th>2098</th>\n",
       "      <td>1.803297</td>\n",
       "      <td>B</td>\n",
       "    </tr>\n",
       "    <tr>\n",
       "      <th>2099</th>\n",
       "      <td>2.140014</td>\n",
       "      <td>B</td>\n",
       "    </tr>\n",
       "  </tbody>\n",
       "</table>\n",
       "<p>2098 rows × 2 columns</p>\n",
       "</div>"
      ]
     },
     "execution_count": 90,
     "metadata": {},
     "output_type": "execute_result"
    }
   ],
   "execution_count": 90
  },
  {
   "cell_type": "markdown",
   "id": "c6f846fb-3aed-4f01-a084-a04302969e61",
   "metadata": {},
   "source": [
    "<ins>**Data Quality Problem:**</ins>\n",
    "- Integrity Constraint Violation: GradeClass does not match given GPA range\n",
    "  - For example:\n",
    "    - Entry 2096: GradeClass is A yet GPA is 3.455, this is invalid as anyone with a GradeClass of A should have a GPA of above 3.5\n",
    "    - Entry 2098: GradeClass is B yet GPA is 1.803, this is invalid as anyone with a GradeClass of B should have a GPA of above 3\n",
    "\n",
    "<ins>**Fixes:**</ins>\n",
    "- Determine GradeClass based on GPA range"
   ]
  },
  {
   "cell_type": "code",
   "id": "ac2a2286-91f0-4d83-8127-7fb13b835889",
   "metadata": {
    "ExecuteTime": {
     "end_time": "2025-08-05T14:34:18.090580Z",
     "start_time": "2025-08-05T14:34:18.073535Z"
    }
   },
   "source": [
    "# Change all GradeClass to be accurate based on GPA\n",
    "students.loc[students[\"GPA\"] >= 3.5, \"GradeClass\"] = 'A'\n",
    "students.loc[(students[\"GPA\"] >= 3) & (students[\"GPA\"] < 3.5), \"GradeClass\"] = 'B'\n",
    "students.loc[(students[\"GPA\"] >= 2.5) & (students[\"GPA\"] < 3), \"GradeClass\"] = 'C'\n",
    "students.loc[(students[\"GPA\"] >= 2) & (students[\"GPA\"] < 2.5), \"GradeClass\"] = 'D'\n",
    "students.loc[students[\"GPA\"] < 2, \"GradeClass\"] = 'F'\n",
    "\n",
    "# Dispay table\n",
    "students[[\"GPA\", \"GradeClass\"]]"
   ],
   "outputs": [
    {
     "data": {
      "text/plain": [
       "           GPA GradeClass\n",
       "0     3.042915          B\n",
       "1     0.112602          F\n",
       "2     2.054218          D\n",
       "3     1.288061          F\n",
       "4     3.084184          B\n",
       "...        ...        ...\n",
       "2095  1.395631          F\n",
       "2096  3.455509          B\n",
       "2097  1.142333          F\n",
       "2098  1.803297          F\n",
       "2099  2.140014          D\n",
       "\n",
       "[2098 rows x 2 columns]"
      ],
      "text/html": [
       "<div>\n",
       "<style scoped>\n",
       "    .dataframe tbody tr th:only-of-type {\n",
       "        vertical-align: middle;\n",
       "    }\n",
       "\n",
       "    .dataframe tbody tr th {\n",
       "        vertical-align: top;\n",
       "    }\n",
       "\n",
       "    .dataframe thead th {\n",
       "        text-align: right;\n",
       "    }\n",
       "</style>\n",
       "<table border=\"1\" class=\"dataframe\">\n",
       "  <thead>\n",
       "    <tr style=\"text-align: right;\">\n",
       "      <th></th>\n",
       "      <th>GPA</th>\n",
       "      <th>GradeClass</th>\n",
       "    </tr>\n",
       "  </thead>\n",
       "  <tbody>\n",
       "    <tr>\n",
       "      <th>0</th>\n",
       "      <td>3.042915</td>\n",
       "      <td>B</td>\n",
       "    </tr>\n",
       "    <tr>\n",
       "      <th>1</th>\n",
       "      <td>0.112602</td>\n",
       "      <td>F</td>\n",
       "    </tr>\n",
       "    <tr>\n",
       "      <th>2</th>\n",
       "      <td>2.054218</td>\n",
       "      <td>D</td>\n",
       "    </tr>\n",
       "    <tr>\n",
       "      <th>3</th>\n",
       "      <td>1.288061</td>\n",
       "      <td>F</td>\n",
       "    </tr>\n",
       "    <tr>\n",
       "      <th>4</th>\n",
       "      <td>3.084184</td>\n",
       "      <td>B</td>\n",
       "    </tr>\n",
       "    <tr>\n",
       "      <th>...</th>\n",
       "      <td>...</td>\n",
       "      <td>...</td>\n",
       "    </tr>\n",
       "    <tr>\n",
       "      <th>2095</th>\n",
       "      <td>1.395631</td>\n",
       "      <td>F</td>\n",
       "    </tr>\n",
       "    <tr>\n",
       "      <th>2096</th>\n",
       "      <td>3.455509</td>\n",
       "      <td>B</td>\n",
       "    </tr>\n",
       "    <tr>\n",
       "      <th>2097</th>\n",
       "      <td>1.142333</td>\n",
       "      <td>F</td>\n",
       "    </tr>\n",
       "    <tr>\n",
       "      <th>2098</th>\n",
       "      <td>1.803297</td>\n",
       "      <td>F</td>\n",
       "    </tr>\n",
       "    <tr>\n",
       "      <th>2099</th>\n",
       "      <td>2.140014</td>\n",
       "      <td>D</td>\n",
       "    </tr>\n",
       "  </tbody>\n",
       "</table>\n",
       "<p>2098 rows × 2 columns</p>\n",
       "</div>"
      ]
     },
     "execution_count": 91,
     "metadata": {},
     "output_type": "execute_result"
    }
   ],
   "execution_count": 91
  },
  {
   "cell_type": "markdown",
   "id": "8debd37f-c55c-41e9-9a55-34717a8c0fdb",
   "metadata": {},
   "source": [
    "Data Quality Problem has been fixed."
   ]
  },
  {
   "cell_type": "markdown",
   "id": "d2aeb6b8-3977-481e-a105-576260d27279",
   "metadata": {},
   "source": "### **<ins>Splitting Data</ins>**"
  },
  {
   "cell_type": "markdown",
   "id": "20cd1d51-8d7f-4a76-bb3b-c70a89267b77",
   "metadata": {},
   "source": "#### Define labels and features"
  },
  {
   "cell_type": "code",
   "id": "3d6f6578-6f64-4e6b-ac60-315a5f825ff3",
   "metadata": {
    "ExecuteTime": {
     "end_time": "2025-08-05T14:34:18.230675Z",
     "start_time": "2025-08-05T14:34:18.221201Z"
    }
   },
   "source": [
    "# The label of this dataset is GradeClass\n",
    "label = students[\"GradeClass\"]\n",
    "label"
   ],
   "outputs": [
    {
     "data": {
      "text/plain": [
       "0       B\n",
       "1       F\n",
       "2       D\n",
       "3       F\n",
       "4       B\n",
       "       ..\n",
       "2095    F\n",
       "2096    B\n",
       "2097    F\n",
       "2098    F\n",
       "2099    D\n",
       "Name: GradeClass, Length: 2098, dtype: object"
      ]
     },
     "execution_count": 92,
     "metadata": {},
     "output_type": "execute_result"
    }
   ],
   "execution_count": 92
  },
  {
   "cell_type": "code",
   "id": "dbc66ddc-6681-49e5-aa42-62f9e0737f60",
   "metadata": {
    "ExecuteTime": {
     "end_time": "2025-08-05T14:34:18.382326Z",
     "start_time": "2025-08-05T14:34:18.369076Z"
    }
   },
   "source": [
    "# The features of this dataset are Age, StudyTimeWeekly, Absences and ParentalSupport\n",
    "features = students[[\"Age\", \"StudyTimeWeekly\", \"Absences\", \"ParentalSupport\"]]\n",
    "features"
   ],
   "outputs": [
    {
     "data": {
      "text/plain": [
       "      Age  StudyTimeWeekly  Absences  ParentalSupport\n",
       "0      18        15.408756         0                1\n",
       "1      15         4.210570        26                2\n",
       "2      17        10.028829        14                3\n",
       "3      17         4.672495        17                3\n",
       "4      18         8.191219         0                1\n",
       "...   ...              ...       ...              ...\n",
       "2095   16         1.445434        20                3\n",
       "2096   18        10.680555         2                4\n",
       "2097   16         6.805500        20                2\n",
       "2098   16        12.416653        17                2\n",
       "2099   16        17.819907        13                2\n",
       "\n",
       "[2098 rows x 4 columns]"
      ],
      "text/html": [
       "<div>\n",
       "<style scoped>\n",
       "    .dataframe tbody tr th:only-of-type {\n",
       "        vertical-align: middle;\n",
       "    }\n",
       "\n",
       "    .dataframe tbody tr th {\n",
       "        vertical-align: top;\n",
       "    }\n",
       "\n",
       "    .dataframe thead th {\n",
       "        text-align: right;\n",
       "    }\n",
       "</style>\n",
       "<table border=\"1\" class=\"dataframe\">\n",
       "  <thead>\n",
       "    <tr style=\"text-align: right;\">\n",
       "      <th></th>\n",
       "      <th>Age</th>\n",
       "      <th>StudyTimeWeekly</th>\n",
       "      <th>Absences</th>\n",
       "      <th>ParentalSupport</th>\n",
       "    </tr>\n",
       "  </thead>\n",
       "  <tbody>\n",
       "    <tr>\n",
       "      <th>0</th>\n",
       "      <td>18</td>\n",
       "      <td>15.408756</td>\n",
       "      <td>0</td>\n",
       "      <td>1</td>\n",
       "    </tr>\n",
       "    <tr>\n",
       "      <th>1</th>\n",
       "      <td>15</td>\n",
       "      <td>4.210570</td>\n",
       "      <td>26</td>\n",
       "      <td>2</td>\n",
       "    </tr>\n",
       "    <tr>\n",
       "      <th>2</th>\n",
       "      <td>17</td>\n",
       "      <td>10.028829</td>\n",
       "      <td>14</td>\n",
       "      <td>3</td>\n",
       "    </tr>\n",
       "    <tr>\n",
       "      <th>3</th>\n",
       "      <td>17</td>\n",
       "      <td>4.672495</td>\n",
       "      <td>17</td>\n",
       "      <td>3</td>\n",
       "    </tr>\n",
       "    <tr>\n",
       "      <th>4</th>\n",
       "      <td>18</td>\n",
       "      <td>8.191219</td>\n",
       "      <td>0</td>\n",
       "      <td>1</td>\n",
       "    </tr>\n",
       "    <tr>\n",
       "      <th>...</th>\n",
       "      <td>...</td>\n",
       "      <td>...</td>\n",
       "      <td>...</td>\n",
       "      <td>...</td>\n",
       "    </tr>\n",
       "    <tr>\n",
       "      <th>2095</th>\n",
       "      <td>16</td>\n",
       "      <td>1.445434</td>\n",
       "      <td>20</td>\n",
       "      <td>3</td>\n",
       "    </tr>\n",
       "    <tr>\n",
       "      <th>2096</th>\n",
       "      <td>18</td>\n",
       "      <td>10.680555</td>\n",
       "      <td>2</td>\n",
       "      <td>4</td>\n",
       "    </tr>\n",
       "    <tr>\n",
       "      <th>2097</th>\n",
       "      <td>16</td>\n",
       "      <td>6.805500</td>\n",
       "      <td>20</td>\n",
       "      <td>2</td>\n",
       "    </tr>\n",
       "    <tr>\n",
       "      <th>2098</th>\n",
       "      <td>16</td>\n",
       "      <td>12.416653</td>\n",
       "      <td>17</td>\n",
       "      <td>2</td>\n",
       "    </tr>\n",
       "    <tr>\n",
       "      <th>2099</th>\n",
       "      <td>16</td>\n",
       "      <td>17.819907</td>\n",
       "      <td>13</td>\n",
       "      <td>2</td>\n",
       "    </tr>\n",
       "  </tbody>\n",
       "</table>\n",
       "<p>2098 rows × 4 columns</p>\n",
       "</div>"
      ]
     },
     "execution_count": 93,
     "metadata": {},
     "output_type": "execute_result"
    }
   ],
   "execution_count": 93
  },
  {
   "cell_type": "markdown",
   "id": "360eb60b-aa4e-4974-8837-11e19f311cd7",
   "metadata": {},
   "source": "#### Split data into training and testing"
  },
  {
   "cell_type": "code",
   "id": "39febda7-ba5e-47fb-911b-7fd28c247bb4",
   "metadata": {
    "ExecuteTime": {
     "end_time": "2025-08-05T14:34:18.651537Z",
     "start_time": "2025-08-05T14:34:18.631086Z"
    }
   },
   "source": [
    "# Split data into training and testing (80:20 ratio)\n",
    "features_train, features_test, label_train, label_test = train_test_split(features, label, train_size = 0.8)\n",
    "features_train"
   ],
   "outputs": [
    {
     "data": {
      "text/plain": [
       "      Age  StudyTimeWeekly  Absences  ParentalSupport\n",
       "133    17        19.337311         5                2\n",
       "1155   16        16.061513        15                1\n",
       "1859   16         2.149064        18                1\n",
       "791    15         8.406708         2                2\n",
       "707    18         2.093213        23                3\n",
       "...   ...              ...       ...              ...\n",
       "1064   17        13.546837        22                1\n",
       "1953   17         4.892325        12                1\n",
       "1946   16        17.901334        29                3\n",
       "1279   16        12.856668         5                4\n",
       "2032   17         8.647927        20                3\n",
       "\n",
       "[1678 rows x 4 columns]"
      ],
      "text/html": [
       "<div>\n",
       "<style scoped>\n",
       "    .dataframe tbody tr th:only-of-type {\n",
       "        vertical-align: middle;\n",
       "    }\n",
       "\n",
       "    .dataframe tbody tr th {\n",
       "        vertical-align: top;\n",
       "    }\n",
       "\n",
       "    .dataframe thead th {\n",
       "        text-align: right;\n",
       "    }\n",
       "</style>\n",
       "<table border=\"1\" class=\"dataframe\">\n",
       "  <thead>\n",
       "    <tr style=\"text-align: right;\">\n",
       "      <th></th>\n",
       "      <th>Age</th>\n",
       "      <th>StudyTimeWeekly</th>\n",
       "      <th>Absences</th>\n",
       "      <th>ParentalSupport</th>\n",
       "    </tr>\n",
       "  </thead>\n",
       "  <tbody>\n",
       "    <tr>\n",
       "      <th>133</th>\n",
       "      <td>17</td>\n",
       "      <td>19.337311</td>\n",
       "      <td>5</td>\n",
       "      <td>2</td>\n",
       "    </tr>\n",
       "    <tr>\n",
       "      <th>1155</th>\n",
       "      <td>16</td>\n",
       "      <td>16.061513</td>\n",
       "      <td>15</td>\n",
       "      <td>1</td>\n",
       "    </tr>\n",
       "    <tr>\n",
       "      <th>1859</th>\n",
       "      <td>16</td>\n",
       "      <td>2.149064</td>\n",
       "      <td>18</td>\n",
       "      <td>1</td>\n",
       "    </tr>\n",
       "    <tr>\n",
       "      <th>791</th>\n",
       "      <td>15</td>\n",
       "      <td>8.406708</td>\n",
       "      <td>2</td>\n",
       "      <td>2</td>\n",
       "    </tr>\n",
       "    <tr>\n",
       "      <th>707</th>\n",
       "      <td>18</td>\n",
       "      <td>2.093213</td>\n",
       "      <td>23</td>\n",
       "      <td>3</td>\n",
       "    </tr>\n",
       "    <tr>\n",
       "      <th>...</th>\n",
       "      <td>...</td>\n",
       "      <td>...</td>\n",
       "      <td>...</td>\n",
       "      <td>...</td>\n",
       "    </tr>\n",
       "    <tr>\n",
       "      <th>1064</th>\n",
       "      <td>17</td>\n",
       "      <td>13.546837</td>\n",
       "      <td>22</td>\n",
       "      <td>1</td>\n",
       "    </tr>\n",
       "    <tr>\n",
       "      <th>1953</th>\n",
       "      <td>17</td>\n",
       "      <td>4.892325</td>\n",
       "      <td>12</td>\n",
       "      <td>1</td>\n",
       "    </tr>\n",
       "    <tr>\n",
       "      <th>1946</th>\n",
       "      <td>16</td>\n",
       "      <td>17.901334</td>\n",
       "      <td>29</td>\n",
       "      <td>3</td>\n",
       "    </tr>\n",
       "    <tr>\n",
       "      <th>1279</th>\n",
       "      <td>16</td>\n",
       "      <td>12.856668</td>\n",
       "      <td>5</td>\n",
       "      <td>4</td>\n",
       "    </tr>\n",
       "    <tr>\n",
       "      <th>2032</th>\n",
       "      <td>17</td>\n",
       "      <td>8.647927</td>\n",
       "      <td>20</td>\n",
       "      <td>3</td>\n",
       "    </tr>\n",
       "  </tbody>\n",
       "</table>\n",
       "<p>1678 rows × 4 columns</p>\n",
       "</div>"
      ]
     },
     "execution_count": 94,
     "metadata": {},
     "output_type": "execute_result"
    }
   ],
   "execution_count": 94
  },
  {
   "cell_type": "markdown",
   "id": "6bef1b6d-cb25-4642-bc8e-bc16f2a643ac",
   "metadata": {},
   "source": "### **<ins>Classification (training)</ins>**"
  },
  {
   "cell_type": "markdown",
   "id": "8f8bb69c-1dbc-4c8a-9d12-f13940ad11de",
   "metadata": {},
   "source": "#### Normalization of data"
  },
  {
   "metadata": {
    "ExecuteTime": {
     "end_time": "2025-08-05T14:34:18.899966Z",
     "start_time": "2025-08-05T14:34:18.882967Z"
    }
   },
   "cell_type": "code",
   "source": [
    "# Normalise data in order to get more accurace weightage for each feature\n",
    "features_train = sc.fit_transform(features_train)\n",
    "features_test = sc.transform(features_test)"
   ],
   "id": "03b6a176-2880-4e70-b80d-6c36040c25c0",
   "outputs": [],
   "execution_count": 95
  },
  {
   "cell_type": "markdown",
   "id": "4d9e4256-be36-4eda-8165-75451c231472",
   "metadata": {},
   "source": [
    "<ins>**What is SVM?**</ins><br>\n",
    "Support Vector Machine (SVM) is a supervised machine learning algorithm used primarily in classification. SVM is effective in high-dimensional spaces and works well when the data is linearly separable. It functions by attempting to find a *hyperplane* that best separates data into classes. A hyperplace being a decision boundary that separates data points into different classes. For example, in 2D space this can take the form of a line, while in 3D space this can be a plane. SVM comes with a couple of benefits and drawbacks as well. It tends to perform well when there is a high number of features and it is versatile due to its ability to use different kernal functions. On the other hand, SVM is computationally expensive, taking a longer time to train and it is sensitive to *noise* such as outliers which can affect the position of the hyperplane.\n",
    "\n",
    "<ins>**What are kernels?**</ins><br>\n",
    "Used in SVMs the kernal is a mathematical function that transforms the input data into the higher-dimensional space that SVM uses. Making it easier to classify data points that are not linearly separable in the original feature space. There are four kernal types: linear, polynomial, radial basis function (RBF) and sigmoid. Each have their own use cases, for example: Linear kernels are best used when the data is linearly separable or the dataset has a large number of features compared to the number of samples."
   ]
  },
  {
   "cell_type": "markdown",
   "id": "42dcfc29-8920-4e2c-834b-a9013df0971d",
   "metadata": {},
   "source": "#### Testing with different learning models"
  },
  {
   "metadata": {},
   "cell_type": "markdown",
   "source": [
    "**Using optimal parameters with the SVM predictive model**<br>\n",
    "Optimal parameters were found using GridSearch: {'C': 1, 'gamma': 'scale', 'kernel': 'linear'}"
   ],
   "id": "c41eb0b0-c793-4fbd-a41d-67c21aefa11e"
  },
  {
   "metadata": {
    "ExecuteTime": {
     "end_time": "2025-08-05T14:34:19.100858Z",
     "start_time": "2025-08-05T14:34:19.037649Z"
    }
   },
   "cell_type": "code",
   "source": [
    "# Create model\n",
    "svm_model = svm.SVC(C = 1, gamma = 'scale', kernel = 'linear')\n",
    "\n",
    "# Fit training data into model\n",
    "svm_model.fit(features_train, label_train)\n",
    "\n",
    "# Peform prediction\n",
    "prediction = svm_model.predict(features_test)\n",
    "\n",
    "# Analyse accuracy of model\n",
    "accuracy = accuracy_score(label_test, prediction)\n",
    "print(f\"Accuracy: {accuracy * 100:.2f}%\")"
   ],
   "id": "ce62f6d6-6fd6-4ac8-b9e8-014f36429500",
   "outputs": [
    {
     "name": "stdout",
     "output_type": "stream",
     "text": [
      "Accuracy: 76.67%\n"
     ]
    }
   ],
   "execution_count": 96
  },
  {
   "cell_type": "markdown",
   "id": "3ffbd8cf-b83b-49a4-bfa6-291b516f7a3b",
   "metadata": {},
   "source": [
    "**Using optimal parameters with the Random Forest predictive model**<br>\n",
    "Optimal parameters were found using GridSearch: {'max_depth': None, 'min_samples_split': 10, 'n_estimators': 100}"
   ]
  },
  {
   "cell_type": "code",
   "id": "58c700e7-adff-4419-a2ae-d3e4ec551341",
   "metadata": {
    "ExecuteTime": {
     "end_time": "2025-08-05T14:34:19.639879Z",
     "start_time": "2025-08-05T14:34:19.229900Z"
    }
   },
   "source": [
    "# Create model\n",
    "rf_model = RandomForestClassifier(n_estimators=100, max_depth = None, min_samples_split = 10)\n",
    "\n",
    "# Fit training data into model\n",
    "rf_model.fit(features_train, label_train)\n",
    "\n",
    "# Peform prediction\n",
    "rf_prediction = rf_model.predict(features_test)\n",
    "\n",
    "# Analyse accuracy of model\n",
    "accuracy = accuracy_score(label_test, rf_prediction)\n",
    "print(f\"Accuracy: {accuracy * 100:.2f}%\")"
   ],
   "outputs": [
    {
     "name": "stdout",
     "output_type": "stream",
     "text": [
      "Accuracy: 73.81%\n"
     ]
    }
   ],
   "execution_count": 97
  },
  {
   "cell_type": "markdown",
   "id": "3bf7bdf0-428f-470a-a6d1-614a286369d4",
   "metadata": {},
   "source": "### **Classification (prediction)**"
  },
  {
   "cell_type": "markdown",
   "id": "afaf52c8-6682-4cf9-a457-88ab5a25893c",
   "metadata": {},
   "source": "#### Prediction output"
  },
  {
   "cell_type": "code",
   "id": "eb7866d2-02ad-49af-96f6-9322ae832575",
   "metadata": {
    "ExecuteTime": {
     "end_time": "2025-08-05T14:34:19.706531Z",
     "start_time": "2025-08-05T14:34:19.691061Z"
    }
   },
   "source": [
    "# Conduct prediction using SVM\n",
    "svm_prediction = svm_model.predict(features_test)\n",
    "svm_prediction"
   ],
   "outputs": [
    {
     "data": {
      "text/plain": [
       "array(['C', 'C', 'D', 'F', 'F', 'F', 'A', 'D', 'F', 'F', 'F', 'F', 'F',\n",
       "       'F', 'F', 'C', 'C', 'F', 'F', 'F', 'F', 'F', 'F', 'B', 'F', 'D',\n",
       "       'C', 'D', 'F', 'F', 'D', 'F', 'F', 'C', 'B', 'F', 'F', 'C', 'F',\n",
       "       'D', 'C', 'F', 'B', 'C', 'C', 'F', 'F', 'F', 'D', 'F', 'D', 'C',\n",
       "       'D', 'C', 'F', 'B', 'C', 'B', 'A', 'F', 'F', 'D', 'F', 'B', 'D',\n",
       "       'C', 'D', 'F', 'F', 'F', 'C', 'F', 'F', 'F', 'D', 'F', 'B', 'D',\n",
       "       'D', 'F', 'D', 'B', 'F', 'D', 'D', 'F', 'F', 'F', 'C', 'F', 'A',\n",
       "       'D', 'C', 'F', 'F', 'D', 'F', 'F', 'F', 'F', 'D', 'B', 'F', 'F',\n",
       "       'F', 'F', 'D', 'C', 'D', 'F', 'D', 'F', 'B', 'B', 'F', 'C', 'C',\n",
       "       'D', 'C', 'F', 'F', 'B', 'F', 'C', 'C', 'D', 'A', 'F', 'F', 'F',\n",
       "       'D', 'F', 'C', 'D', 'F', 'F', 'F', 'B', 'F', 'F', 'B', 'D', 'F',\n",
       "       'C', 'F', 'F', 'F', 'F', 'A', 'F', 'C', 'F', 'F', 'D', 'F', 'B',\n",
       "       'F', 'C', 'F', 'C', 'F', 'F', 'F', 'F', 'F', 'D', 'F', 'C', 'B',\n",
       "       'D', 'F', 'F', 'F', 'F', 'F', 'C', 'F', 'F', 'F', 'F', 'F', 'F',\n",
       "       'F', 'F', 'F', 'D', 'F', 'F', 'F', 'B', 'F', 'F', 'F', 'F', 'F',\n",
       "       'F', 'D', 'F', 'D', 'F', 'F', 'F', 'D', 'F', 'D', 'F', 'D', 'B',\n",
       "       'D', 'B', 'C', 'F', 'C', 'F', 'F', 'C', 'F', 'F', 'B', 'F', 'F',\n",
       "       'C', 'F', 'F', 'D', 'C', 'B', 'B', 'C', 'F', 'F', 'C', 'F', 'F',\n",
       "       'F', 'D', 'F', 'F', 'C', 'F', 'F', 'F', 'F', 'F', 'F', 'F', 'F',\n",
       "       'F', 'D', 'B', 'F', 'B', 'D', 'D', 'C', 'F', 'C', 'D', 'B', 'D',\n",
       "       'D', 'F', 'F', 'F', 'A', 'D', 'C', 'F', 'F', 'B', 'F', 'B', 'B',\n",
       "       'D', 'F', 'D', 'F', 'F', 'F', 'F', 'F', 'D', 'C', 'C', 'B', 'F',\n",
       "       'B', 'F', 'F', 'D', 'B', 'F', 'D', 'F', 'D', 'F', 'F', 'F', 'B',\n",
       "       'D', 'F', 'F', 'C', 'D', 'F', 'F', 'D', 'F', 'C', 'F', 'C', 'D',\n",
       "       'D', 'B', 'F', 'F', 'F', 'F', 'D', 'D', 'F', 'F', 'F', 'F', 'F',\n",
       "       'F', 'C', 'F', 'F', 'D', 'D', 'F', 'B', 'F', 'F', 'F', 'D', 'F',\n",
       "       'B', 'F', 'B', 'F', 'B', 'B', 'C', 'F', 'C', 'C', 'B', 'F', 'D',\n",
       "       'B', 'C', 'B', 'D', 'A', 'B', 'C', 'B', 'F', 'F', 'C', 'F', 'B',\n",
       "       'F', 'C', 'C', 'A', 'C', 'B', 'C', 'B', 'F', 'B', 'F', 'F', 'F',\n",
       "       'F', 'F', 'C', 'F', 'F', 'D', 'F', 'C', 'B', 'F', 'D', 'F', 'F',\n",
       "       'C', 'D', 'C', 'F', 'C', 'F', 'D', 'F', 'F', 'D', 'F', 'F', 'D',\n",
       "       'F', 'F', 'A', 'F', 'B', 'F', 'F', 'D', 'F', 'C', 'F', 'F', 'F',\n",
       "       'B', 'C', 'F', 'F'], dtype=object)"
      ]
     },
     "execution_count": 98,
     "metadata": {},
     "output_type": "execute_result"
    }
   ],
   "execution_count": 98
  },
  {
   "cell_type": "code",
   "id": "9f40d35b-6766-4af8-b853-daa44de63031",
   "metadata": {
    "ExecuteTime": {
     "end_time": "2025-08-05T14:34:19.741607Z",
     "start_time": "2025-08-05T14:34:19.716541Z"
    }
   },
   "source": [
    "# Conduct prediction using RF\n",
    "rf_prediction = rf_model.predict(features_test)\n",
    "rf_prediction"
   ],
   "outputs": [
    {
     "data": {
      "text/plain": [
       "array(['C', 'D', 'D', 'F', 'F', 'F', 'A', 'D', 'F', 'F', 'F', 'F', 'F',\n",
       "       'F', 'F', 'B', 'C', 'F', 'F', 'F', 'F', 'F', 'F', 'B', 'F', 'F',\n",
       "       'C', 'D', 'F', 'F', 'D', 'F', 'F', 'C', 'B', 'F', 'F', 'B', 'F',\n",
       "       'D', 'D', 'F', 'B', 'C', 'B', 'F', 'F', 'F', 'D', 'F', 'D', 'C',\n",
       "       'D', 'C', 'F', 'A', 'C', 'C', 'A', 'F', 'F', 'D', 'F', 'B', 'D',\n",
       "       'C', 'D', 'F', 'F', 'F', 'C', 'F', 'F', 'F', 'C', 'F', 'C', 'D',\n",
       "       'D', 'F', 'D', 'A', 'F', 'D', 'D', 'F', 'F', 'F', 'C', 'F', 'A',\n",
       "       'D', 'C', 'F', 'F', 'D', 'F', 'F', 'F', 'F', 'D', 'C', 'F', 'F',\n",
       "       'F', 'F', 'F', 'C', 'D', 'F', 'D', 'F', 'B', 'B', 'F', 'D', 'C',\n",
       "       'D', 'C', 'F', 'F', 'C', 'D', 'D', 'D', 'D', 'A', 'F', 'F', 'F',\n",
       "       'D', 'F', 'C', 'D', 'F', 'F', 'F', 'C', 'F', 'F', 'B', 'D', 'F',\n",
       "       'C', 'F', 'F', 'F', 'F', 'A', 'F', 'C', 'F', 'F', 'C', 'F', 'B',\n",
       "       'F', 'C', 'F', 'C', 'F', 'F', 'F', 'F', 'F', 'D', 'F', 'B', 'B',\n",
       "       'D', 'F', 'F', 'F', 'F', 'F', 'C', 'F', 'F', 'F', 'F', 'F', 'F',\n",
       "       'F', 'F', 'F', 'D', 'F', 'F', 'F', 'B', 'F', 'F', 'F', 'F', 'F',\n",
       "       'F', 'D', 'F', 'D', 'F', 'F', 'F', 'C', 'D', 'D', 'D', 'D', 'B',\n",
       "       'D', 'B', 'C', 'F', 'C', 'F', 'F', 'C', 'F', 'F', 'B', 'F', 'F',\n",
       "       'C', 'F', 'F', 'D', 'C', 'B', 'B', 'C', 'F', 'F', 'C', 'F', 'F',\n",
       "       'F', 'D', 'F', 'D', 'C', 'F', 'F', 'F', 'F', 'F', 'F', 'F', 'F',\n",
       "       'F', 'D', 'B', 'F', 'B', 'D', 'D', 'C', 'F', 'C', 'C', 'B', 'D',\n",
       "       'C', 'F', 'F', 'F', 'A', 'D', 'D', 'F', 'F', 'C', 'F', 'C', 'B',\n",
       "       'D', 'F', 'D', 'F', 'F', 'F', 'F', 'F', 'D', 'C', 'C', 'B', 'F',\n",
       "       'B', 'F', 'F', 'C', 'C', 'F', 'D', 'F', 'C', 'F', 'F', 'D', 'B',\n",
       "       'D', 'F', 'F', 'C', 'D', 'F', 'F', 'D', 'F', 'C', 'F', 'C', 'C',\n",
       "       'D', 'B', 'F', 'F', 'F', 'F', 'D', 'D', 'F', 'F', 'F', 'F', 'F',\n",
       "       'F', 'C', 'F', 'F', 'F', 'D', 'F', 'B', 'F', 'D', 'F', 'D', 'D',\n",
       "       'B', 'D', 'B', 'F', 'C', 'B', 'C', 'F', 'C', 'C', 'B', 'F', 'D',\n",
       "       'B', 'C', 'C', 'F', 'A', 'B', 'C', 'B', 'F', 'F', 'C', 'F', 'B',\n",
       "       'F', 'C', 'C', 'B', 'C', 'B', 'C', 'C', 'F', 'B', 'F', 'F', 'F',\n",
       "       'F', 'F', 'B', 'F', 'F', 'D', 'F', 'C', 'B', 'F', 'D', 'F', 'F',\n",
       "       'C', 'D', 'C', 'F', 'C', 'F', 'D', 'F', 'F', 'D', 'F', 'F', 'D',\n",
       "       'F', 'F', 'A', 'F', 'B', 'F', 'F', 'F', 'F', 'D', 'F', 'F', 'F',\n",
       "       'B', 'C', 'F', 'F'], dtype=object)"
      ]
     },
     "execution_count": 99,
     "metadata": {},
     "output_type": "execute_result"
    }
   ],
   "execution_count": 99
  },
  {
   "cell_type": "markdown",
   "id": "edbed99c-4a1e-418b-91f1-a01595f9b39b",
   "metadata": {},
   "source": "#### Confusion matrixes"
  },
  {
   "cell_type": "code",
   "id": "c7ecb2c4-c5ab-4f13-8ce8-f60d98929e52",
   "metadata": {
    "ExecuteTime": {
     "end_time": "2025-08-05T14:34:19.794729Z",
     "start_time": "2025-08-05T14:34:19.781585Z"
    }
   },
   "source": [
    "# Generate confusion matrixes for the two models\n",
    "svm_matrix = confusion_matrix(label_test, svm_prediction)\n",
    "rf_matrix = confusion_matrix(label_test, rf_prediction)\n",
    "\n",
    "# Display Confusion Matrixes in array form\n",
    "print(\"SVM confusion matrix:\")\n",
    "print(svm_matrix)\n",
    "print(\"RF confusion matrix:\")\n",
    "print(rf_matrix)"
   ],
   "outputs": [
    {
     "name": "stdout",
     "output_type": "stream",
     "text": [
      "SVM confusion matrix:\n",
      "[[  4   6   1   0   0]\n",
      " [  5  34   8   0   0]\n",
      " [  0  10  35  23   0]\n",
      " [  0   0  19  38  13]\n",
      " [  0   0   1  12 211]]\n",
      "RF confusion matrix:\n",
      "[[  4   4   3   0   0]\n",
      " [  6  25  16   0   0]\n",
      " [  0  14  31  23   0]\n",
      " [  0   0  19  40  11]\n",
      " [  0   0   2  12 210]]\n"
     ]
    }
   ],
   "execution_count": 100
  },
  {
   "cell_type": "code",
   "id": "0f1ef2bd-d874-4cbb-b2be-1b4364a3ca11",
   "metadata": {
    "ExecuteTime": {
     "end_time": "2025-08-05T14:34:20.117824Z",
     "start_time": "2025-08-05T14:34:19.836844Z"
    }
   },
   "source": [
    "# Display SVM Confusion Matrix\n",
    "disp = ConfusionMatrixDisplay(confusion_matrix=svm_matrix, display_labels = grades)\n",
    "disp.plot(cmap='Blues')"
   ],
   "outputs": [
    {
     "data": {
      "text/plain": [
       "<sklearn.metrics._plot.confusion_matrix.ConfusionMatrixDisplay at 0x22ebdd0dd30>"
      ]
     },
     "execution_count": 101,
     "metadata": {},
     "output_type": "execute_result"
    },
    {
     "data": {
      "text/plain": [
       "<Figure size 640x480 with 2 Axes>"
      ],
      "image/png": "[encoded data removed]"
     },
     "metadata": {},
     "output_type": "display_data"
    }
   ],
   "execution_count": 101
  },
  {
   "cell_type": "code",
   "id": "4ba2c51c-4530-4155-9151-6f1c92cdff45",
   "metadata": {
    "ExecuteTime": {
     "end_time": "2025-08-05T14:34:20.364126Z",
     "start_time": "2025-08-05T14:34:20.142997Z"
    }
   },
   "source": [
    "# Display RF Confusion Matrix\n",
    "disp = ConfusionMatrixDisplay(confusion_matrix=rf_matrix, display_labels = grades)\n",
    "disp.plot(cmap='Reds')"
   ],
   "outputs": [
    {
     "data": {
      "text/plain": [
       "<sklearn.metrics._plot.confusion_matrix.ConfusionMatrixDisplay at 0x22ebdd57320>"
      ]
     },
     "execution_count": 102,
     "metadata": {},
     "output_type": "execute_result"
    },
    {
     "data": {
      "text/plain": [
       "<Figure size 640x480 with 2 Axes>"
      ],
      "image/png": "[encoded data removed]"
     },
     "metadata": {},
     "output_type": "display_data"
    }
   ],
   "execution_count": 102
  },
  {
   "cell_type": "code",
   "id": "7405d9e8-3d3e-4146-bf57-5de26d46ca57",
   "metadata": {
    "ExecuteTime": {
     "end_time": "2025-08-05T14:34:20.417197Z",
     "start_time": "2025-08-05T14:34:20.408089Z"
    }
   },
   "source": [
    "accuracy = accuracy_score(label_test, prediction)\n",
    "print(f\"SVM Accuracy: {accuracy * 100:.2f}%\")\n",
    "accuracy = accuracy_score(label_test, rf_prediction)\n",
    "print(f\"RF Accuracy: {accuracy * 100:.2f}%\")"
   ],
   "outputs": [
    {
     "name": "stdout",
     "output_type": "stream",
     "text": [
      "SVM Accuracy: 76.67%\n",
      "RF Accuracy: 73.81%\n"
     ]
    }
   ],
   "execution_count": 103
  },
  {
   "cell_type": "markdown",
   "id": "57ebffc3-3e18-4c7c-b040-14f8a87cddc8",
   "metadata": {},
   "source": "### **<ins>Outputing predictions to file</ins>**"
  },
  {
   "cell_type": "code",
   "id": "4152a446-fc0f-4baa-807c-e3a552e510eb",
   "metadata": {
    "ExecuteTime": {
     "end_time": "2025-08-05T14:34:20.471764Z",
     "start_time": "2025-08-05T14:34:20.455931Z"
    }
   },
   "source": [
    "# Read file\n",
    "students = pd.read_csv('student_list.csv')\n",
    "\n",
    "# Display students\n",
    "students.head()"
   ],
   "outputs": [
    {
     "data": {
      "text/plain": [
       "   StudentID  Age  StudyTimeWeekly  Absences  ParentalSupport       GPA  \\\n",
       "0       1002   18        15.408756         0                1  3.042915   \n",
       "1       1003   15         4.210570        26                2  0.112602   \n",
       "2       1004   17        10.028829        14                3  2.054218   \n",
       "3       1005   17         4.672495        17                3  1.288061   \n",
       "4       1006   18         8.191219         0                1  3.084184   \n",
       "\n",
       "   GradeClass  \n",
       "0           1  \n",
       "1           4  \n",
       "2           3  \n",
       "3           4  \n",
       "4           1  "
      ],
      "text/html": [
       "<div>\n",
       "<style scoped>\n",
       "    .dataframe tbody tr th:only-of-type {\n",
       "        vertical-align: middle;\n",
       "    }\n",
       "\n",
       "    .dataframe tbody tr th {\n",
       "        vertical-align: top;\n",
       "    }\n",
       "\n",
       "    .dataframe thead th {\n",
       "        text-align: right;\n",
       "    }\n",
       "</style>\n",
       "<table border=\"1\" class=\"dataframe\">\n",
       "  <thead>\n",
       "    <tr style=\"text-align: right;\">\n",
       "      <th></th>\n",
       "      <th>StudentID</th>\n",
       "      <th>Age</th>\n",
       "      <th>StudyTimeWeekly</th>\n",
       "      <th>Absences</th>\n",
       "      <th>ParentalSupport</th>\n",
       "      <th>GPA</th>\n",
       "      <th>GradeClass</th>\n",
       "    </tr>\n",
       "  </thead>\n",
       "  <tbody>\n",
       "    <tr>\n",
       "      <th>0</th>\n",
       "      <td>1002</td>\n",
       "      <td>18</td>\n",
       "      <td>15.408756</td>\n",
       "      <td>0</td>\n",
       "      <td>1</td>\n",
       "      <td>3.042915</td>\n",
       "      <td>1</td>\n",
       "    </tr>\n",
       "    <tr>\n",
       "      <th>1</th>\n",
       "      <td>1003</td>\n",
       "      <td>15</td>\n",
       "      <td>4.210570</td>\n",
       "      <td>26</td>\n",
       "      <td>2</td>\n",
       "      <td>0.112602</td>\n",
       "      <td>4</td>\n",
       "    </tr>\n",
       "    <tr>\n",
       "      <th>2</th>\n",
       "      <td>1004</td>\n",
       "      <td>17</td>\n",
       "      <td>10.028829</td>\n",
       "      <td>14</td>\n",
       "      <td>3</td>\n",
       "      <td>2.054218</td>\n",
       "      <td>3</td>\n",
       "    </tr>\n",
       "    <tr>\n",
       "      <th>3</th>\n",
       "      <td>1005</td>\n",
       "      <td>17</td>\n",
       "      <td>4.672495</td>\n",
       "      <td>17</td>\n",
       "      <td>3</td>\n",
       "      <td>1.288061</td>\n",
       "      <td>4</td>\n",
       "    </tr>\n",
       "    <tr>\n",
       "      <th>4</th>\n",
       "      <td>1006</td>\n",
       "      <td>18</td>\n",
       "      <td>8.191219</td>\n",
       "      <td>0</td>\n",
       "      <td>1</td>\n",
       "      <td>3.084184</td>\n",
       "      <td>1</td>\n",
       "    </tr>\n",
       "  </tbody>\n",
       "</table>\n",
       "</div>"
      ]
     },
     "execution_count": 104,
     "metadata": {},
     "output_type": "execute_result"
    }
   ],
   "execution_count": 104
  },
  {
   "cell_type": "code",
   "id": "a511ef92-92e7-483a-b7fd-e2828626a2be",
   "metadata": {
    "ExecuteTime": {
     "end_time": "2025-08-05T14:34:20.577999Z",
     "start_time": "2025-08-05T14:34:20.549996Z"
    }
   },
   "source": [
    "# Attempt to find outliers\n",
    "students.describe()"
   ],
   "outputs": [
    {
     "data": {
      "text/plain": [
       "         StudentID          Age  StudyTimeWeekly     Absences  \\\n",
       "count  2100.000000  2100.000000      2079.000000  2100.000000   \n",
       "mean   2062.840952    16.475238         9.676082    14.709048   \n",
       "std     626.957633     1.124823         5.667623    11.153253   \n",
       "min    1002.000000    15.000000         0.004859  -122.000000   \n",
       "25%    1526.750000    15.000000         4.895155     7.000000   \n",
       "50%    2051.500000    16.000000         9.513101    15.000000   \n",
       "75%    2576.250000    17.000000        14.324899    22.000000   \n",
       "max    3392.000000    18.000000        19.978094   320.000000   \n",
       "\n",
       "       ParentalSupport          GPA   GradeClass  \n",
       "count      2100.000000  2100.000000  2100.000000  \n",
       "mean          2.116190     1.892345     2.970476  \n",
       "std           1.120141     0.908335     1.245510  \n",
       "min           0.000000     0.000000     0.000000  \n",
       "25%           1.000000     1.173660     2.000000  \n",
       "50%           2.000000     1.883797     4.000000  \n",
       "75%           3.000000     2.605279     4.000000  \n",
       "max           4.000000     4.000000     4.000000  "
      ],
      "text/html": [
       "<div>\n",
       "<style scoped>\n",
       "    .dataframe tbody tr th:only-of-type {\n",
       "        vertical-align: middle;\n",
       "    }\n",
       "\n",
       "    .dataframe tbody tr th {\n",
       "        vertical-align: top;\n",
       "    }\n",
       "\n",
       "    .dataframe thead th {\n",
       "        text-align: right;\n",
       "    }\n",
       "</style>\n",
       "<table border=\"1\" class=\"dataframe\">\n",
       "  <thead>\n",
       "    <tr style=\"text-align: right;\">\n",
       "      <th></th>\n",
       "      <th>StudentID</th>\n",
       "      <th>Age</th>\n",
       "      <th>StudyTimeWeekly</th>\n",
       "      <th>Absences</th>\n",
       "      <th>ParentalSupport</th>\n",
       "      <th>GPA</th>\n",
       "      <th>GradeClass</th>\n",
       "    </tr>\n",
       "  </thead>\n",
       "  <tbody>\n",
       "    <tr>\n",
       "      <th>count</th>\n",
       "      <td>2100.000000</td>\n",
       "      <td>2100.000000</td>\n",
       "      <td>2079.000000</td>\n",
       "      <td>2100.000000</td>\n",
       "      <td>2100.000000</td>\n",
       "      <td>2100.000000</td>\n",
       "      <td>2100.000000</td>\n",
       "    </tr>\n",
       "    <tr>\n",
       "      <th>mean</th>\n",
       "      <td>2062.840952</td>\n",
       "      <td>16.475238</td>\n",
       "      <td>9.676082</td>\n",
       "      <td>14.709048</td>\n",
       "      <td>2.116190</td>\n",
       "      <td>1.892345</td>\n",
       "      <td>2.970476</td>\n",
       "    </tr>\n",
       "    <tr>\n",
       "      <th>std</th>\n",
       "      <td>626.957633</td>\n",
       "      <td>1.124823</td>\n",
       "      <td>5.667623</td>\n",
       "      <td>11.153253</td>\n",
       "      <td>1.120141</td>\n",
       "      <td>0.908335</td>\n",
       "      <td>1.245510</td>\n",
       "    </tr>\n",
       "    <tr>\n",
       "      <th>min</th>\n",
       "      <td>1002.000000</td>\n",
       "      <td>15.000000</td>\n",
       "      <td>0.004859</td>\n",
       "      <td>-122.000000</td>\n",
       "      <td>0.000000</td>\n",
       "      <td>0.000000</td>\n",
       "      <td>0.000000</td>\n",
       "    </tr>\n",
       "    <tr>\n",
       "      <th>25%</th>\n",
       "      <td>1526.750000</td>\n",
       "      <td>15.000000</td>\n",
       "      <td>4.895155</td>\n",
       "      <td>7.000000</td>\n",
       "      <td>1.000000</td>\n",
       "      <td>1.173660</td>\n",
       "      <td>2.000000</td>\n",
       "    </tr>\n",
       "    <tr>\n",
       "      <th>50%</th>\n",
       "      <td>2051.500000</td>\n",
       "      <td>16.000000</td>\n",
       "      <td>9.513101</td>\n",
       "      <td>15.000000</td>\n",
       "      <td>2.000000</td>\n",
       "      <td>1.883797</td>\n",
       "      <td>4.000000</td>\n",
       "    </tr>\n",
       "    <tr>\n",
       "      <th>75%</th>\n",
       "      <td>2576.250000</td>\n",
       "      <td>17.000000</td>\n",
       "      <td>14.324899</td>\n",
       "      <td>22.000000</td>\n",
       "      <td>3.000000</td>\n",
       "      <td>2.605279</td>\n",
       "      <td>4.000000</td>\n",
       "    </tr>\n",
       "    <tr>\n",
       "      <th>max</th>\n",
       "      <td>3392.000000</td>\n",
       "      <td>18.000000</td>\n",
       "      <td>19.978094</td>\n",
       "      <td>320.000000</td>\n",
       "      <td>4.000000</td>\n",
       "      <td>4.000000</td>\n",
       "      <td>4.000000</td>\n",
       "    </tr>\n",
       "  </tbody>\n",
       "</table>\n",
       "</div>"
      ]
     },
     "execution_count": 105,
     "metadata": {},
     "output_type": "execute_result"
    }
   ],
   "execution_count": 105
  },
  {
   "cell_type": "code",
   "id": "51653568-3f0e-436d-ba19-3d376dce6142",
   "metadata": {
    "ExecuteTime": {
     "end_time": "2025-08-05T14:34:20.717330Z",
     "start_time": "2025-08-05T14:34:20.676484Z"
    }
   },
   "source": [
    "# Set all StudyTimeWeekly = NaN to the median of StudyTimeWeekly\n",
    "students['StudyTimeWeekly'] = students['StudyTimeWeekly'].fillna(students['StudyTimeWeekly'].median())\n",
    "\n",
    "# Assign features\n",
    "new_features = sc.transform(students[[\"Age\", \"StudyTimeWeekly\", \"Absences\", \"ParentalSupport\"]])\n",
    "\n",
    "# Predict for new_features\n",
    "grade_pred = svm_model.predict(new_features)\n",
    "grade_pred"
   ],
   "outputs": [
    {
     "data": {
      "text/plain": [
       "array(['B', 'F', 'D', ..., 'F', 'F', 'D'], shape=(2100,), dtype=object)"
      ]
     },
     "execution_count": 106,
     "metadata": {},
     "output_type": "execute_result"
    }
   ],
   "execution_count": 106
  },
  {
   "cell_type": "code",
   "id": "95de0507-4663-4b4a-84fa-9925563b35e0",
   "metadata": {
    "ExecuteTime": {
     "end_time": "2025-08-05T14:34:20.904201Z",
     "start_time": "2025-08-05T14:34:20.891738Z"
    }
   },
   "source": [
    "# Create new dataframe to store results\n",
    "final_predictions = pd.DataFrame({\n",
    "    'StudentID': students[\"StudentID\"],\n",
    "    'GradeClass': grade_pred\n",
    "})\n",
    "final_predictions"
   ],
   "outputs": [
    {
     "data": {
      "text/plain": [
       "      StudentID GradeClass\n",
       "0          1002          B\n",
       "1          1003          F\n",
       "2          1004          D\n",
       "3          1005          F\n",
       "4          1006          B\n",
       "...         ...        ...\n",
       "2095       3386          F\n",
       "2096       3388          B\n",
       "2097       3390          F\n",
       "2098       3391          F\n",
       "2099       3392          D\n",
       "\n",
       "[2100 rows x 2 columns]"
      ],
      "text/html": [
       "<div>\n",
       "<style scoped>\n",
       "    .dataframe tbody tr th:only-of-type {\n",
       "        vertical-align: middle;\n",
       "    }\n",
       "\n",
       "    .dataframe tbody tr th {\n",
       "        vertical-align: top;\n",
       "    }\n",
       "\n",
       "    .dataframe thead th {\n",
       "        text-align: right;\n",
       "    }\n",
       "</style>\n",
       "<table border=\"1\" class=\"dataframe\">\n",
       "  <thead>\n",
       "    <tr style=\"text-align: right;\">\n",
       "      <th></th>\n",
       "      <th>StudentID</th>\n",
       "      <th>GradeClass</th>\n",
       "    </tr>\n",
       "  </thead>\n",
       "  <tbody>\n",
       "    <tr>\n",
       "      <th>0</th>\n",
       "      <td>1002</td>\n",
       "      <td>B</td>\n",
       "    </tr>\n",
       "    <tr>\n",
       "      <th>1</th>\n",
       "      <td>1003</td>\n",
       "      <td>F</td>\n",
       "    </tr>\n",
       "    <tr>\n",
       "      <th>2</th>\n",
       "      <td>1004</td>\n",
       "      <td>D</td>\n",
       "    </tr>\n",
       "    <tr>\n",
       "      <th>3</th>\n",
       "      <td>1005</td>\n",
       "      <td>F</td>\n",
       "    </tr>\n",
       "    <tr>\n",
       "      <th>4</th>\n",
       "      <td>1006</td>\n",
       "      <td>B</td>\n",
       "    </tr>\n",
       "    <tr>\n",
       "      <th>...</th>\n",
       "      <td>...</td>\n",
       "      <td>...</td>\n",
       "    </tr>\n",
       "    <tr>\n",
       "      <th>2095</th>\n",
       "      <td>3386</td>\n",
       "      <td>F</td>\n",
       "    </tr>\n",
       "    <tr>\n",
       "      <th>2096</th>\n",
       "      <td>3388</td>\n",
       "      <td>B</td>\n",
       "    </tr>\n",
       "    <tr>\n",
       "      <th>2097</th>\n",
       "      <td>3390</td>\n",
       "      <td>F</td>\n",
       "    </tr>\n",
       "    <tr>\n",
       "      <th>2098</th>\n",
       "      <td>3391</td>\n",
       "      <td>F</td>\n",
       "    </tr>\n",
       "    <tr>\n",
       "      <th>2099</th>\n",
       "      <td>3392</td>\n",
       "      <td>D</td>\n",
       "    </tr>\n",
       "  </tbody>\n",
       "</table>\n",
       "<p>2100 rows × 2 columns</p>\n",
       "</div>"
      ]
     },
     "execution_count": 107,
     "metadata": {},
     "output_type": "execute_result"
    }
   ],
   "execution_count": 107
  },
  {
   "cell_type": "code",
   "id": "a9a71740-3357-4b56-85ff-652ff462029a",
   "metadata": {
    "ExecuteTime": {
     "end_time": "2025-08-05T14:34:21.044338Z",
     "start_time": "2025-08-05T14:34:21.035255Z"
    }
   },
   "source": [
    "######################################################\n",
    "# Write predictions to csv file                      #\n",
    "# Commented out to prevent overwriting existing file #\n",
    "######################################################\n",
    "\n",
    "final_predictions.to_csv('student_predictions.csv', index=False)"
   ],
   "outputs": [],
   "execution_count": 108
  }
 ],
 "metadata": {
  "kernelspec": {
   "display_name": "Python 3",
   "language": "python",
   "name": "python3"
  },
  "language_info": {
   "codemirror_mode": {
    "name": "ipython",
    "version": 3
   },
   "file_extension": ".py",
   "mimetype": "text/x-python",
   "name": "python",
   "nbconvert_exporter": "python",
   "pygments_lexer": "ipython3",
   "version": "3.11.8"
  }
 },
 "nbformat": 4,
 "nbformat_minor": 5
}
